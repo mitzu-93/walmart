{
 "cells": [
  {
   "cell_type": "markdown",
   "id": "713eaeaa",
   "metadata": {},
   "source": [
    "## Introduction"
   ]
  },
  {
   "cell_type": "markdown",
   "id": "e2da37a3",
   "metadata": {},
   "source": [
    "In this report I will aim to discover some hidden insights in data provided by Walmart. Some potential questions retail stores might ask about are highest performing stores and months. Busiest periods for sales in store. As well as how temperature has affected purchasing decisions. This dataset also has a fuel price and CPI (Customer price index). Although no obvious observations can be made using these two currently, I aim to use these two columns to hopefully provide some meaninful data to the proposed stakeholder."
   ]
  },
  {
   "cell_type": "markdown",
   "id": "44650ab7",
   "metadata": {},
   "source": [
    "## Table of contents"
   ]
  },
  {
   "cell_type": "code",
   "execution_count": null,
   "id": "dbcf75c7",
   "metadata": {},
   "outputs": [],
   "source": []
  },
  {
   "cell_type": "markdown",
   "id": "a60acf5c",
   "metadata": {},
   "source": [
    "## Glossary"
   ]
  },
  {
   "cell_type": "markdown",
   "id": "e9f469d5",
   "metadata": {},
   "source": [
    "<p><span style=\"font-weight: bold\">Store: </span>..</p>\n",
    "<p><span style=\"font-weight: bold\">Date: </span>..</p>\n",
    "<p><span style=\"font-weight: bold\">Weekly_Sales: </span>..</p>\n",
    "<p><span style=\"font-weight: bold\">Holiday_Flag: </span>..</p>\n",
    "<p><span style=\"font-weight: bold\">Temperature: </span>..</p>\n",
    "<p><span style=\"font-weight: bold\">Fuel_Price: </span>..</p>\n",
    "<p><span style=\"font-weight: bold\">CPI: </span>..</p>\n",
    "<p><span style=\"font-weight: bold\">Unemployment: </span>..</p>"
   ]
  },
  {
   "cell_type": "code",
   "execution_count": 1,
   "id": "0e386fd5",
   "metadata": {},
   "outputs": [],
   "source": [
    "import pandas as pd\n",
    "import os\n",
    "import datetime"
   ]
  },
  {
   "cell_type": "markdown",
   "id": "ce5e51a1",
   "metadata": {},
   "source": [
    "Importing required libraries needed for the immediate analysis"
   ]
  },
  {
   "cell_type": "code",
   "execution_count": 2,
   "id": "24172ec0",
   "metadata": {},
   "outputs": [
    {
     "data": {
      "text/html": [
       "<div>\n",
       "<style scoped>\n",
       "    .dataframe tbody tr th:only-of-type {\n",
       "        vertical-align: middle;\n",
       "    }\n",
       "\n",
       "    .dataframe tbody tr th {\n",
       "        vertical-align: top;\n",
       "    }\n",
       "\n",
       "    .dataframe thead th {\n",
       "        text-align: right;\n",
       "    }\n",
       "</style>\n",
       "<table border=\"1\" class=\"dataframe\">\n",
       "  <thead>\n",
       "    <tr style=\"text-align: right;\">\n",
       "      <th></th>\n",
       "      <th>Store</th>\n",
       "      <th>Date</th>\n",
       "      <th>Weekly_Sales</th>\n",
       "      <th>Holiday_Flag</th>\n",
       "      <th>Temperature</th>\n",
       "      <th>Fuel_Price</th>\n",
       "      <th>CPI</th>\n",
       "      <th>Unemployment</th>\n",
       "    </tr>\n",
       "  </thead>\n",
       "  <tbody>\n",
       "    <tr>\n",
       "      <th>0</th>\n",
       "      <td>1</td>\n",
       "      <td>05-02-2010</td>\n",
       "      <td>1643690.90</td>\n",
       "      <td>0</td>\n",
       "      <td>42.31</td>\n",
       "      <td>2.572</td>\n",
       "      <td>211.096358</td>\n",
       "      <td>8.106</td>\n",
       "    </tr>\n",
       "    <tr>\n",
       "      <th>1</th>\n",
       "      <td>1</td>\n",
       "      <td>12-02-2010</td>\n",
       "      <td>1641957.44</td>\n",
       "      <td>1</td>\n",
       "      <td>38.51</td>\n",
       "      <td>2.548</td>\n",
       "      <td>211.242170</td>\n",
       "      <td>8.106</td>\n",
       "    </tr>\n",
       "    <tr>\n",
       "      <th>2</th>\n",
       "      <td>1</td>\n",
       "      <td>19-02-2010</td>\n",
       "      <td>1611968.17</td>\n",
       "      <td>0</td>\n",
       "      <td>39.93</td>\n",
       "      <td>2.514</td>\n",
       "      <td>211.289143</td>\n",
       "      <td>8.106</td>\n",
       "    </tr>\n",
       "    <tr>\n",
       "      <th>3</th>\n",
       "      <td>1</td>\n",
       "      <td>26-02-2010</td>\n",
       "      <td>1409727.59</td>\n",
       "      <td>0</td>\n",
       "      <td>46.63</td>\n",
       "      <td>2.561</td>\n",
       "      <td>211.319643</td>\n",
       "      <td>8.106</td>\n",
       "    </tr>\n",
       "    <tr>\n",
       "      <th>4</th>\n",
       "      <td>1</td>\n",
       "      <td>05-03-2010</td>\n",
       "      <td>1554806.68</td>\n",
       "      <td>0</td>\n",
       "      <td>46.50</td>\n",
       "      <td>2.625</td>\n",
       "      <td>211.350143</td>\n",
       "      <td>8.106</td>\n",
       "    </tr>\n",
       "  </tbody>\n",
       "</table>\n",
       "</div>"
      ],
      "text/plain": [
       "   Store        Date  Weekly_Sales  Holiday_Flag  Temperature  Fuel_Price  \\\n",
       "0      1  05-02-2010    1643690.90             0        42.31       2.572   \n",
       "1      1  12-02-2010    1641957.44             1        38.51       2.548   \n",
       "2      1  19-02-2010    1611968.17             0        39.93       2.514   \n",
       "3      1  26-02-2010    1409727.59             0        46.63       2.561   \n",
       "4      1  05-03-2010    1554806.68             0        46.50       2.625   \n",
       "\n",
       "          CPI  Unemployment  \n",
       "0  211.096358         8.106  \n",
       "1  211.242170         8.106  \n",
       "2  211.289143         8.106  \n",
       "3  211.319643         8.106  \n",
       "4  211.350143         8.106  "
      ]
     },
     "execution_count": 2,
     "metadata": {},
     "output_type": "execute_result"
    }
   ],
   "source": [
    "all_data = pd.read_csv(\"archive/Walmart.csv\")\n",
    "all_data.head()"
   ]
  },
  {
   "cell_type": "markdown",
   "id": "db730e78",
   "metadata": {},
   "source": [
    "Adding a month column so we can find out the busiest month, it will likely be December given the state of holidays in America. However, we can dig deeper after we find do some initial digging."
   ]
  },
  {
   "cell_type": "code",
   "execution_count": 19,
   "id": "925d79bf",
   "metadata": {},
   "outputs": [],
   "source": [
    "all_data['Date'] = pd.to_datetime(all_data['Date'], dayfirst=True)\n",
    "all_data['Month'] = all_data['Date'].dt.month\n",
    "all_data['Week'] = all_data['Date'].dt.isocalendar().week\n",
    "\n",
    "# all_data = all_data.drop(columns='Hour')"
   ]
  },
  {
   "cell_type": "code",
   "execution_count": 20,
   "id": "138d8598",
   "metadata": {},
   "outputs": [
    {
     "data": {
      "text/html": [
       "<div>\n",
       "<style scoped>\n",
       "    .dataframe tbody tr th:only-of-type {\n",
       "        vertical-align: middle;\n",
       "    }\n",
       "\n",
       "    .dataframe tbody tr th {\n",
       "        vertical-align: top;\n",
       "    }\n",
       "\n",
       "    .dataframe thead th {\n",
       "        text-align: right;\n",
       "    }\n",
       "</style>\n",
       "<table border=\"1\" class=\"dataframe\">\n",
       "  <thead>\n",
       "    <tr style=\"text-align: right;\">\n",
       "      <th></th>\n",
       "      <th>Store</th>\n",
       "      <th>Date</th>\n",
       "      <th>Weekly_Sales</th>\n",
       "      <th>Holiday_Flag</th>\n",
       "      <th>Temperature</th>\n",
       "      <th>Fuel_Price</th>\n",
       "      <th>CPI</th>\n",
       "      <th>Unemployment</th>\n",
       "      <th>Month</th>\n",
       "      <th>Week</th>\n",
       "    </tr>\n",
       "  </thead>\n",
       "  <tbody>\n",
       "    <tr>\n",
       "      <th>0</th>\n",
       "      <td>1</td>\n",
       "      <td>2010-05-02</td>\n",
       "      <td>1643690.90</td>\n",
       "      <td>0</td>\n",
       "      <td>42.31</td>\n",
       "      <td>2.572</td>\n",
       "      <td>211.096358</td>\n",
       "      <td>8.106</td>\n",
       "      <td>5</td>\n",
       "      <td>17</td>\n",
       "    </tr>\n",
       "    <tr>\n",
       "      <th>1</th>\n",
       "      <td>1</td>\n",
       "      <td>2010-12-02</td>\n",
       "      <td>1641957.44</td>\n",
       "      <td>1</td>\n",
       "      <td>38.51</td>\n",
       "      <td>2.548</td>\n",
       "      <td>211.242170</td>\n",
       "      <td>8.106</td>\n",
       "      <td>12</td>\n",
       "      <td>48</td>\n",
       "    </tr>\n",
       "    <tr>\n",
       "      <th>2</th>\n",
       "      <td>1</td>\n",
       "      <td>2010-02-19</td>\n",
       "      <td>1611968.17</td>\n",
       "      <td>0</td>\n",
       "      <td>39.93</td>\n",
       "      <td>2.514</td>\n",
       "      <td>211.289143</td>\n",
       "      <td>8.106</td>\n",
       "      <td>2</td>\n",
       "      <td>7</td>\n",
       "    </tr>\n",
       "    <tr>\n",
       "      <th>3</th>\n",
       "      <td>1</td>\n",
       "      <td>2010-02-26</td>\n",
       "      <td>1409727.59</td>\n",
       "      <td>0</td>\n",
       "      <td>46.63</td>\n",
       "      <td>2.561</td>\n",
       "      <td>211.319643</td>\n",
       "      <td>8.106</td>\n",
       "      <td>2</td>\n",
       "      <td>8</td>\n",
       "    </tr>\n",
       "    <tr>\n",
       "      <th>4</th>\n",
       "      <td>1</td>\n",
       "      <td>2010-05-03</td>\n",
       "      <td>1554806.68</td>\n",
       "      <td>0</td>\n",
       "      <td>46.50</td>\n",
       "      <td>2.625</td>\n",
       "      <td>211.350143</td>\n",
       "      <td>8.106</td>\n",
       "      <td>5</td>\n",
       "      <td>18</td>\n",
       "    </tr>\n",
       "  </tbody>\n",
       "</table>\n",
       "</div>"
      ],
      "text/plain": [
       "   Store       Date  Weekly_Sales  Holiday_Flag  Temperature  Fuel_Price  \\\n",
       "0      1 2010-05-02    1643690.90             0        42.31       2.572   \n",
       "1      1 2010-12-02    1641957.44             1        38.51       2.548   \n",
       "2      1 2010-02-19    1611968.17             0        39.93       2.514   \n",
       "3      1 2010-02-26    1409727.59             0        46.63       2.561   \n",
       "4      1 2010-05-03    1554806.68             0        46.50       2.625   \n",
       "\n",
       "          CPI  Unemployment  Month  Week  \n",
       "0  211.096358         8.106      5    17  \n",
       "1  211.242170         8.106     12    48  \n",
       "2  211.289143         8.106      2     7  \n",
       "3  211.319643         8.106      2     8  \n",
       "4  211.350143         8.106      5    18  "
      ]
     },
     "execution_count": 20,
     "metadata": {},
     "output_type": "execute_result"
    }
   ],
   "source": [
    "all_data.head()"
   ]
  },
  {
   "cell_type": "code",
   "execution_count": 21,
   "id": "e59a2fb7",
   "metadata": {},
   "outputs": [],
   "source": [
    "import matplotlib.pyplot as plt"
   ]
  },
  {
   "cell_type": "markdown",
   "id": "625141cc",
   "metadata": {},
   "source": [
    "Importing matplotlib since we will need it soon. Lets groupby sales first and find out some more information from the data."
   ]
  },
  {
   "cell_type": "markdown",
   "id": "0d46ae75",
   "metadata": {},
   "source": [
    "## Question 1: Which store had had the highest sales?"
   ]
  },
  {
   "cell_type": "markdown",
   "id": "92d8afe2",
   "metadata": {},
   "source": [
    "Using the store number and the sum of the weekly sales we can determine the month with the highest weekly sales. "
   ]
  },
  {
   "cell_type": "code",
   "execution_count": 26,
   "id": "06ab8cc2",
   "metadata": {},
   "outputs": [
    {
     "data": {
      "text/plain": [
       "Store\n",
       "1    2.224028e+08\n",
       "2    2.753824e+08\n",
       "3    5.758674e+07\n",
       "4    2.995440e+08\n",
       "5    4.547569e+07\n",
       "Name: Weekly_Sales, dtype: float64"
      ]
     },
     "execution_count": 26,
     "metadata": {},
     "output_type": "execute_result"
    }
   ],
   "source": [
    "temp = all_data.groupby('Store')['Weekly_Sales'].sum('Numeric')\n",
    "temp.head()"
   ]
  },
  {
   "cell_type": "code",
   "execution_count": 27,
   "id": "e7ce5f9c",
   "metadata": {
    "scrolled": true
   },
   "outputs": [
    {
     "data": {
      "text/html": [
       "<div>\n",
       "<style scoped>\n",
       "    .dataframe tbody tr th:only-of-type {\n",
       "        vertical-align: middle;\n",
       "    }\n",
       "\n",
       "    .dataframe tbody tr th {\n",
       "        vertical-align: top;\n",
       "    }\n",
       "\n",
       "    .dataframe thead th {\n",
       "        text-align: right;\n",
       "    }\n",
       "</style>\n",
       "<table border=\"1\" class=\"dataframe\">\n",
       "  <thead>\n",
       "    <tr style=\"text-align: right;\">\n",
       "      <th></th>\n",
       "      <th>Store</th>\n",
       "      <th>Weekly_Sales</th>\n",
       "      <th>Holiday_Flag</th>\n",
       "      <th>Temperature</th>\n",
       "      <th>Fuel_Price</th>\n",
       "      <th>CPI</th>\n",
       "      <th>Unemployment</th>\n",
       "      <th>Week</th>\n",
       "    </tr>\n",
       "    <tr>\n",
       "      <th>Month</th>\n",
       "      <th></th>\n",
       "      <th></th>\n",
       "      <th></th>\n",
       "      <th></th>\n",
       "      <th></th>\n",
       "      <th></th>\n",
       "      <th></th>\n",
       "      <th></th>\n",
       "    </tr>\n",
       "  </thead>\n",
       "  <tbody>\n",
       "    <tr>\n",
       "      <th>1</th>\n",
       "      <td>10350</td>\n",
       "      <td>4.264263e+08</td>\n",
       "      <td>0</td>\n",
       "      <td>22263.37</td>\n",
       "      <td>1498.683</td>\n",
       "      <td>77203.131371</td>\n",
       "      <td>3579.347</td>\n",
       "      <td>990</td>\n",
       "    </tr>\n",
       "    <tr>\n",
       "      <th>2</th>\n",
       "      <td>11385</td>\n",
       "      <td>5.220257e+08</td>\n",
       "      <td>0</td>\n",
       "      <td>24852.99</td>\n",
       "      <td>1588.334</td>\n",
       "      <td>84647.368406</td>\n",
       "      <td>4012.831</td>\n",
       "      <td>3240</td>\n",
       "    </tr>\n",
       "    <tr>\n",
       "      <th>3</th>\n",
       "      <td>12420</td>\n",
       "      <td>5.534864e+08</td>\n",
       "      <td>0</td>\n",
       "      <td>31003.74</td>\n",
       "      <td>1840.997</td>\n",
       "      <td>92727.609658</td>\n",
       "      <td>4326.556</td>\n",
       "      <td>5850</td>\n",
       "    </tr>\n",
       "    <tr>\n",
       "      <th>4</th>\n",
       "      <td>14490</td>\n",
       "      <td>6.453239e+08</td>\n",
       "      <td>0</td>\n",
       "      <td>35830.77</td>\n",
       "      <td>2201.178</td>\n",
       "      <td>107947.908163</td>\n",
       "      <td>5062.770</td>\n",
       "      <td>9585</td>\n",
       "    </tr>\n",
       "    <tr>\n",
       "      <th>5</th>\n",
       "      <td>13455</td>\n",
       "      <td>6.056966e+08</td>\n",
       "      <td>0</td>\n",
       "      <td>36481.59</td>\n",
       "      <td>1985.926</td>\n",
       "      <td>99944.805375</td>\n",
       "      <td>4749.647</td>\n",
       "      <td>11340</td>\n",
       "    </tr>\n",
       "    <tr>\n",
       "      <th>6</th>\n",
       "      <td>12420</td>\n",
       "      <td>5.750180e+08</td>\n",
       "      <td>0</td>\n",
       "      <td>38385.29</td>\n",
       "      <td>1858.250</td>\n",
       "      <td>93153.049690</td>\n",
       "      <td>4243.419</td>\n",
       "      <td>12870</td>\n",
       "    </tr>\n",
       "    <tr>\n",
       "      <th>7</th>\n",
       "      <td>13455</td>\n",
       "      <td>5.933139e+08</td>\n",
       "      <td>45</td>\n",
       "      <td>43293.40</td>\n",
       "      <td>1952.016</td>\n",
       "      <td>100392.712862</td>\n",
       "      <td>4640.430</td>\n",
       "      <td>16605</td>\n",
       "    </tr>\n",
       "    <tr>\n",
       "      <th>8</th>\n",
       "      <td>12420</td>\n",
       "      <td>5.642317e+08</td>\n",
       "      <td>0</td>\n",
       "      <td>40325.74</td>\n",
       "      <td>1830.539</td>\n",
       "      <td>92811.171347</td>\n",
       "      <td>4290.082</td>\n",
       "      <td>17730</td>\n",
       "    </tr>\n",
       "    <tr>\n",
       "      <th>9</th>\n",
       "      <td>13455</td>\n",
       "      <td>5.905323e+08</td>\n",
       "      <td>45</td>\n",
       "      <td>38622.39</td>\n",
       "      <td>1998.795</td>\n",
       "      <td>100749.027661</td>\n",
       "      <td>4643.908</td>\n",
       "      <td>21735</td>\n",
       "    </tr>\n",
       "    <tr>\n",
       "      <th>10</th>\n",
       "      <td>13455</td>\n",
       "      <td>6.029189e+08</td>\n",
       "      <td>90</td>\n",
       "      <td>35513.68</td>\n",
       "      <td>1954.006</td>\n",
       "      <td>100609.787184</td>\n",
       "      <td>4614.553</td>\n",
       "      <td>24255</td>\n",
       "    </tr>\n",
       "    <tr>\n",
       "      <th>11</th>\n",
       "      <td>9315</td>\n",
       "      <td>4.591693e+08</td>\n",
       "      <td>135</td>\n",
       "      <td>20951.91</td>\n",
       "      <td>1331.907</td>\n",
       "      <td>69321.250277</td>\n",
       "      <td>3278.830</td>\n",
       "      <td>18360</td>\n",
       "    </tr>\n",
       "    <tr>\n",
       "      <th>12</th>\n",
       "      <td>11385</td>\n",
       "      <td>5.990761e+08</td>\n",
       "      <td>135</td>\n",
       "      <td>22846.57</td>\n",
       "      <td>1572.004</td>\n",
       "      <td>84599.142420</td>\n",
       "      <td>4032.164</td>\n",
       "      <td>24750</td>\n",
       "    </tr>\n",
       "  </tbody>\n",
       "</table>\n",
       "</div>"
      ],
      "text/plain": [
       "       Store  Weekly_Sales  Holiday_Flag  Temperature  Fuel_Price  \\\n",
       "Month                                                               \n",
       "1      10350  4.264263e+08             0     22263.37    1498.683   \n",
       "2      11385  5.220257e+08             0     24852.99    1588.334   \n",
       "3      12420  5.534864e+08             0     31003.74    1840.997   \n",
       "4      14490  6.453239e+08             0     35830.77    2201.178   \n",
       "5      13455  6.056966e+08             0     36481.59    1985.926   \n",
       "6      12420  5.750180e+08             0     38385.29    1858.250   \n",
       "7      13455  5.933139e+08            45     43293.40    1952.016   \n",
       "8      12420  5.642317e+08             0     40325.74    1830.539   \n",
       "9      13455  5.905323e+08            45     38622.39    1998.795   \n",
       "10     13455  6.029189e+08            90     35513.68    1954.006   \n",
       "11      9315  4.591693e+08           135     20951.91    1331.907   \n",
       "12     11385  5.990761e+08           135     22846.57    1572.004   \n",
       "\n",
       "                 CPI  Unemployment   Week  \n",
       "Month                                      \n",
       "1       77203.131371      3579.347    990  \n",
       "2       84647.368406      4012.831   3240  \n",
       "3       92727.609658      4326.556   5850  \n",
       "4      107947.908163      5062.770   9585  \n",
       "5       99944.805375      4749.647  11340  \n",
       "6       93153.049690      4243.419  12870  \n",
       "7      100392.712862      4640.430  16605  \n",
       "8       92811.171347      4290.082  17730  \n",
       "9      100749.027661      4643.908  21735  \n",
       "10     100609.787184      4614.553  24255  \n",
       "11      69321.250277      3278.830  18360  \n",
       "12      84599.142420      4032.164  24750  "
      ]
     },
     "execution_count": 27,
     "metadata": {},
     "output_type": "execute_result"
    }
   ],
   "source": [
    "temp = all_data.groupby('Month').sum('Numeric')\n",
    "temp.head(12)"
   ]
  },
  {
   "cell_type": "code",
   "execution_count": 30,
   "id": "eb07ceae",
   "metadata": {},
   "outputs": [
    {
     "data": {
      "image/png": "[encoded data removed]",
      "text/plain": [
       "<Figure size 640x480 with 1 Axes>"
      ]
     },
     "metadata": {},
     "output_type": "display_data"
    }
   ],
   "source": [
    "month_num = range(1, 13)\n",
    "months = []\n",
    "for i in month_num:\n",
    "    i = str(i)\n",
    "    datetime_object = datetime.datetime.strptime(i, \"%m\")\n",
    "    month_name = datetime_object.strftime('%b')\n",
    "    months.append(month_name)\n",
    "    \n",
    "plt.bar(months, temp['Weekly_Sales'])\n",
    "plt.ylabel('Sales in USD ($)')\n",
    "plt.xlabel('Month')\n",
    "plt.show()"
   ]
  },
  {
   "cell_type": "markdown",
   "id": "98c4a9a2",
   "metadata": {},
   "source": [
    "We now know that April had the highest sales for the year. Lets try to find out if there is a particular reason why this might happen. We have access to holiday data for this data set so perhaps this will give us more information. I think it might also be useful to find out if this was consistent accross all stores or if only one particular store was responsible for the vast majority fo sales in this period. \n",
    "\n",
    "Lets take a look at sales by store first, then dig deeper into other reasons as to why April might be the best performing month."
   ]
  },
  {
   "cell_type": "markdown",
   "id": "8785bac1",
   "metadata": {},
   "source": [
    "## Question 2: Which store performs the best throughout the year?"
   ]
  },
  {
   "cell_type": "code",
   "execution_count": null,
   "id": "8a9aec0a",
   "metadata": {},
   "outputs": [],
   "source": []
  }
 ],
 "metadata": {
  "authors": [
   {
    "name": "Muhammad Kasim Ali"
   }
  ],
  "kernelspec": {
   "display_name": "Python 3 (ipykernel)",
   "language": "python",
   "name": "python3"
  },
  "language_info": {
   "codemirror_mode": {
    "name": "ipython",
    "version": 3
   },
   "file_extension": ".py",
   "mimetype": "text/x-python",
   "name": "python",
   "nbconvert_exporter": "python",
   "pygments_lexer": "ipython3",
   "version": "3.10.6"
  },
  "title": "Walmart: Sales Analysis"
 },
 "nbformat": 4,
 "nbformat_minor": 5
}
